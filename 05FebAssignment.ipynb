{
 "cells": [
  {
   "cell_type": "markdown",
   "id": "bdbfbc49-f2f3-4cb3-8603-1e6d563d3322",
   "metadata": {},
   "source": [
    "\"\"\"Q1. Explain Class and Object with respect to Object-Oriented Programming. Give a suitable example.\"\"\"\n",
    "\n",
    "Object-->Objects have states and behaviors\n",
    "\n",
    "Class -->blueprint that describes the behavior that the object of its type support.\n",
    "\n",
    "Example:\n",
    "    A dog has states - color, name, breed as well as behaviors – wagging the tail, barking, eating. "
   ]
  },
  {
   "cell_type": "markdown",
   "id": "cb534fd6-cbb9-4235-b88a-7637ccb1a7f8",
   "metadata": {},
   "source": [
    "\"\"\"Q2. Name the four pillars of OOPs.\"\"\"\n",
    "\n",
    "The four pillars for OOP are:\n",
    " Abstraction. \n",
    " Encapsulation. \n",
    " Inheritance.\n",
    " Polymorphism."
   ]
  },
  {
   "cell_type": "markdown",
   "id": "d82c0211-bff7-4226-b48b-907f9ac3b16a",
   "metadata": {},
   "source": [
    "\"\"\"Q3. Explain why the __init__() function is used. Give a suitable example.\"\"\"\n",
    "\n",
    "__init__() Function is a constructor.\n",
    "\n",
    "The task of constructors is to initialize(assign values) to the data members of the class \n",
    "when an object of the class is created.\n",
    "\n"
   ]
  },
  {
   "cell_type": "code",
   "execution_count": 1,
   "id": "29509933-430e-4f5a-a2e6-457a9463aad7",
   "metadata": {},
   "outputs": [
    {
     "name": "stdout",
     "output_type": "stream",
     "text": [
      "1\n",
      "2\n"
     ]
    }
   ],
   "source": [
    "#Example:\n",
    "class test:\n",
    "    def __init__(self,a,b):\n",
    "        self.a=a\n",
    "        self.b=b\n",
    "\n",
    "t=test(1,2)\n",
    "\n",
    "print(t.a)\n",
    "print(t.b)"
   ]
  },
  {
   "cell_type": "markdown",
   "id": "55c2efb5-b610-4b4a-bc1c-ee46d97e5945",
   "metadata": {},
   "source": [
    "\"\"\"Q4. Why self is used in OOPs?\"\"\"\n",
    "\n",
    "The self variable is used to represent the instance of the class \n",
    "which is often used in object-oriented programming."
   ]
  },
  {
   "cell_type": "markdown",
   "id": "ab4ac248-f59d-4be0-aff0-7782927bc5df",
   "metadata": {},
   "source": [
    "\"\"\"Q5. What is inheritance? Give an example for each type of inheritance.\"\"\"\n",
    "\n",
    "Inheritance is a mechanism of acquiring the features and behaviors of a class by another class.\n"
   ]
  },
  {
   "cell_type": "code",
   "execution_count": 2,
   "id": "c3f10607-ddcc-4767-8457-42ff5c7cb51d",
   "metadata": {},
   "outputs": [
    {
     "name": "stdout",
     "output_type": "stream",
     "text": [
      "This is the method of class 1\n",
      "This is the method of class 2\n"
     ]
    }
   ],
   "source": [
    "#Example for Multi Lable inheritance:\n",
    "\n",
    "class class1:\n",
    "    def Meth_of_class1(self):\n",
    "        return \"This is the method of class 1\"\n",
    "class class2(class1):\n",
    "    def Meth_of_class2(self):\n",
    "        return \"This is the method of class 2\"\n",
    "class class3(class2):\n",
    "        pass\n",
    "    \n",
    "c3=class3()\n",
    "\n",
    "print(c3.Meth_of_class1())\n",
    "\n",
    "print(c3.Meth_of_class2())\n"
   ]
  },
  {
   "cell_type": "code",
   "execution_count": 3,
   "id": "43dade19-6b56-4e19-88c2-81283d2e167e",
   "metadata": {},
   "outputs": [
    {
     "name": "stdout",
     "output_type": "stream",
     "text": [
      "This is the method of class 1\n",
      "This is the method of class 2\n"
     ]
    }
   ],
   "source": [
    "#Example for Multiple inheritance:\n",
    "\n",
    "class class1:\n",
    "    def Meth_of_class1(self):\n",
    "        return \"This is the method of class 1\"\n",
    "\n",
    "class class2:\n",
    "    def Meth_of_class2(self):\n",
    "        return \"This is the method of class 2\"\n",
    "\n",
    "class class3(class1,class2):\n",
    "        pass\n",
    "    \n",
    "c3=class3()\n",
    "\n",
    "print(c3.Meth_of_class1())\n",
    "\n",
    "print(c3.Meth_of_class2())\n"
   ]
  }
 ],
 "metadata": {
  "kernelspec": {
   "display_name": "Python 3 (ipykernel)",
   "language": "python",
   "name": "python3"
  },
  "language_info": {
   "codemirror_mode": {
    "name": "ipython",
    "version": 3
   },
   "file_extension": ".py",
   "mimetype": "text/x-python",
   "name": "python",
   "nbconvert_exporter": "python",
   "pygments_lexer": "ipython3",
   "version": "3.10.8"
  }
 },
 "nbformat": 4,
 "nbformat_minor": 5
}
